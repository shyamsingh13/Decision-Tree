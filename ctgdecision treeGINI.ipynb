{
 "cells": [
  {
   "cell_type": "code",
   "execution_count": 1,
   "id": "4e4445d0",
   "metadata": {},
   "outputs": [],
   "source": [
    "import pandas as pd\n",
    "import numpy as np\n",
    "from sklearn.linear_model import LinearRegression\n",
    "from sklearn.preprocessing import LabelEncoder\n",
    "import matplotlib.pyplot as plt\n",
    "import seaborn as sns"
   ]
  },
  {
   "cell_type": "code",
   "execution_count": 2,
   "id": "9b4c2a91",
   "metadata": {},
   "outputs": [],
   "source": [
    "ctg = pd.read_csv(r\"F:\\carreer\\ctg.csv\")"
   ]
  },
  {
   "cell_type": "code",
   "execution_count": 3,
   "id": "87fcd941",
   "metadata": {},
   "outputs": [
    {
     "data": {
      "text/plain": [
       "(2126, 4)"
      ]
     },
     "execution_count": 3,
     "metadata": {},
     "output_type": "execute_result"
    }
   ],
   "source": [
    "ctg.shape"
   ]
  },
  {
   "cell_type": "code",
   "execution_count": 4,
   "id": "8147ccdc",
   "metadata": {},
   "outputs": [
    {
     "data": {
      "text/html": [
       "<div>\n",
       "<style scoped>\n",
       "    .dataframe tbody tr th:only-of-type {\n",
       "        vertical-align: middle;\n",
       "    }\n",
       "\n",
       "    .dataframe tbody tr th {\n",
       "        vertical-align: top;\n",
       "    }\n",
       "\n",
       "    .dataframe thead th {\n",
       "        text-align: right;\n",
       "    }\n",
       "</style>\n",
       "<table border=\"1\" class=\"dataframe\">\n",
       "  <thead>\n",
       "    <tr style=\"text-align: right;\">\n",
       "      <th></th>\n",
       "      <th>LB</th>\n",
       "      <th>AC</th>\n",
       "      <th>FM</th>\n",
       "      <th>NSP</th>\n",
       "    </tr>\n",
       "  </thead>\n",
       "  <tbody>\n",
       "    <tr>\n",
       "      <th>0</th>\n",
       "      <td>120</td>\n",
       "      <td>0.000</td>\n",
       "      <td>0.0</td>\n",
       "      <td>2</td>\n",
       "    </tr>\n",
       "    <tr>\n",
       "      <th>1</th>\n",
       "      <td>132</td>\n",
       "      <td>0.006</td>\n",
       "      <td>0.0</td>\n",
       "      <td>1</td>\n",
       "    </tr>\n",
       "    <tr>\n",
       "      <th>2</th>\n",
       "      <td>133</td>\n",
       "      <td>0.003</td>\n",
       "      <td>0.0</td>\n",
       "      <td>1</td>\n",
       "    </tr>\n",
       "    <tr>\n",
       "      <th>3</th>\n",
       "      <td>134</td>\n",
       "      <td>0.003</td>\n",
       "      <td>0.0</td>\n",
       "      <td>1</td>\n",
       "    </tr>\n",
       "    <tr>\n",
       "      <th>4</th>\n",
       "      <td>132</td>\n",
       "      <td>0.007</td>\n",
       "      <td>0.0</td>\n",
       "      <td>1</td>\n",
       "    </tr>\n",
       "  </tbody>\n",
       "</table>\n",
       "</div>"
      ],
      "text/plain": [
       "    LB     AC   FM  NSP\n",
       "0  120  0.000  0.0    2\n",
       "1  132  0.006  0.0    1\n",
       "2  133  0.003  0.0    1\n",
       "3  134  0.003  0.0    1\n",
       "4  132  0.007  0.0    1"
      ]
     },
     "execution_count": 4,
     "metadata": {},
     "output_type": "execute_result"
    }
   ],
   "source": [
    "ctg.head()"
   ]
  },
  {
   "cell_type": "code",
   "execution_count": 5,
   "id": "2f9c8cc9",
   "metadata": {},
   "outputs": [],
   "source": [
    "#LB : beats per seconds\n",
    "#AC : acceleration per sec\n",
    "#FM :fetal movemennt per sec\n",
    "#NSP : (Normal(normal) , suspect (some futhur investigaton is needed), pathalogical (patient is ill))\n",
    "# Medical preg women"
   ]
  },
  {
   "cell_type": "code",
   "execution_count": 6,
   "id": "2bfca97d",
   "metadata": {},
   "outputs": [
    {
     "data": {
      "text/plain": [
       "1    1655\n",
       "2     295\n",
       "3     176\n",
       "Name: NSP, dtype: int64"
      ]
     },
     "execution_count": 6,
     "metadata": {},
     "output_type": "execute_result"
    }
   ],
   "source": [
    "ctg.NSP.value_counts()"
   ]
  },
  {
   "cell_type": "code",
   "execution_count": 7,
   "id": "d74dcf7e",
   "metadata": {},
   "outputs": [
    {
     "data": {
      "text/plain": [
       "LB     0\n",
       "AC     0\n",
       "FM     0\n",
       "NSP    0\n",
       "dtype: int64"
      ]
     },
     "execution_count": 7,
     "metadata": {},
     "output_type": "execute_result"
    }
   ],
   "source": [
    "ctg.isnull().sum()"
   ]
  },
  {
   "cell_type": "code",
   "execution_count": 8,
   "id": "6976db96",
   "metadata": {},
   "outputs": [],
   "source": [
    "from sklearn.model_selection import train_test_split"
   ]
  },
  {
   "cell_type": "code",
   "execution_count": 9,
   "id": "ca4ec82f",
   "metadata": {},
   "outputs": [],
   "source": [
    "ctg_train , ctg_test = train_test_split(ctg , test_size= .2)"
   ]
  },
  {
   "cell_type": "code",
   "execution_count": 10,
   "id": "7f5e5d90",
   "metadata": {},
   "outputs": [
    {
     "data": {
      "text/plain": [
       "1    1322\n",
       "2     235\n",
       "3     143\n",
       "Name: NSP, dtype: int64"
      ]
     },
     "execution_count": 10,
     "metadata": {},
     "output_type": "execute_result"
    }
   ],
   "source": [
    "ctg_train.NSP.value_counts()"
   ]
  },
  {
   "cell_type": "markdown",
   "id": "d646d3c7",
   "metadata": {},
   "source": [
    "# class imbalance (over sampling)\n",
    "# train data"
   ]
  },
  {
   "cell_type": "code",
   "execution_count": 27,
   "id": "4fee2444",
   "metadata": {},
   "outputs": [
    {
     "data": {
      "text/plain": [
       "(143, 4)"
      ]
     },
     "execution_count": 27,
     "metadata": {},
     "output_type": "execute_result"
    }
   ],
   "source": [
    "df3 = ctg_train[ctg_train.NSP == 3]\n",
    "df3.shape# class imbalance (over sampling)\n",
    "# train data"
   ]
  },
  {
   "cell_type": "code",
   "execution_count": 28,
   "id": "b9cc9792",
   "metadata": {},
   "outputs": [
    {
     "data": {
      "text/plain": [
       "(235, 4)"
      ]
     },
     "execution_count": 28,
     "metadata": {},
     "output_type": "execute_result"
    }
   ],
   "source": [
    "df2 = ctg_train[ctg_train.NSP == 2]\n",
    "df2.shape"
   ]
  },
  {
   "cell_type": "code",
   "execution_count": 29,
   "id": "c97f5e1f",
   "metadata": {},
   "outputs": [
    {
     "data": {
      "text/plain": [
       "(1700, 4)"
      ]
     },
     "execution_count": 29,
     "metadata": {},
     "output_type": "execute_result"
    }
   ],
   "source": [
    "ctg_train.shape"
   ]
  },
  {
   "cell_type": "markdown",
   "id": "cefcad4c",
   "metadata": {},
   "source": [
    "# concetination for data imbalance"
   ]
  },
  {
   "cell_type": "code",
   "execution_count": 30,
   "id": "14cae310",
   "metadata": {},
   "outputs": [],
   "source": [
    "ctg_train = pd.concat([ctg_train , df3 , df3 , df3 , df2]) \n",
    "# this is according to the data imbalance where we have to think\n",
    "# that how much data is going to be done copy for which class as class 1 was having more data their for the data copy wass \n",
    "# done for class 2 and class 3 "
   ]
  },
  {
   "cell_type": "code",
   "execution_count": 31,
   "id": "77809795",
   "metadata": {},
   "outputs": [
    {
     "data": {
      "text/plain": [
       "(2364, 4)"
      ]
     },
     "execution_count": 31,
     "metadata": {},
     "output_type": "execute_result"
    }
   ],
   "source": [
    "ctg_train.shape"
   ]
  },
  {
   "cell_type": "code",
   "execution_count": 32,
   "id": "fa3bb7c1",
   "metadata": {},
   "outputs": [
    {
     "data": {
      "text/plain": [
       "1    1322\n",
       "3     572\n",
       "2     470\n",
       "Name: NSP, dtype: int64"
      ]
     },
     "execution_count": 32,
     "metadata": {},
     "output_type": "execute_result"
    }
   ],
   "source": [
    "ctg_train.NSP.value_counts() # record has increase for the class 2 and 3"
   ]
  },
  {
   "cell_type": "code",
   "execution_count": 33,
   "id": "a4cc8c6d",
   "metadata": {},
   "outputs": [],
   "source": [
    "ctg_train_x = ctg_train.iloc[: , [0,1,2]]\n",
    "ctg_train_y = ctg_train.iloc[: , -1]"
   ]
  },
  {
   "cell_type": "code",
   "execution_count": 34,
   "id": "b000d040",
   "metadata": {},
   "outputs": [],
   "source": [
    "ctg_test_x = ctg_test.iloc[: , [0,1,2]]\n",
    "ctg_test_y = ctg_test.iloc[: , -1]"
   ]
  },
  {
   "cell_type": "code",
   "execution_count": 35,
   "id": "1dda80bf",
   "metadata": {},
   "outputs": [],
   "source": [
    "from sklearn.tree import DecisionTreeClassifier"
   ]
  },
  {
   "cell_type": "code",
   "execution_count": 36,
   "id": "94eb5484",
   "metadata": {},
   "outputs": [],
   "source": [
    "dt_ctg = DecisionTreeClassifier()"
   ]
  },
  {
   "cell_type": "code",
   "execution_count": 37,
   "id": "10224b70",
   "metadata": {},
   "outputs": [
    {
     "data": {
      "text/html": [
       "<style>#sk-container-id-2 {color: black;background-color: white;}#sk-container-id-2 pre{padding: 0;}#sk-container-id-2 div.sk-toggleable {background-color: white;}#sk-container-id-2 label.sk-toggleable__label {cursor: pointer;display: block;width: 100%;margin-bottom: 0;padding: 0.3em;box-sizing: border-box;text-align: center;}#sk-container-id-2 label.sk-toggleable__label-arrow:before {content: \"▸\";float: left;margin-right: 0.25em;color: #696969;}#sk-container-id-2 label.sk-toggleable__label-arrow:hover:before {color: black;}#sk-container-id-2 div.sk-estimator:hover label.sk-toggleable__label-arrow:before {color: black;}#sk-container-id-2 div.sk-toggleable__content {max-height: 0;max-width: 0;overflow: hidden;text-align: left;background-color: #f0f8ff;}#sk-container-id-2 div.sk-toggleable__content pre {margin: 0.2em;color: black;border-radius: 0.25em;background-color: #f0f8ff;}#sk-container-id-2 input.sk-toggleable__control:checked~div.sk-toggleable__content {max-height: 200px;max-width: 100%;overflow: auto;}#sk-container-id-2 input.sk-toggleable__control:checked~label.sk-toggleable__label-arrow:before {content: \"▾\";}#sk-container-id-2 div.sk-estimator input.sk-toggleable__control:checked~label.sk-toggleable__label {background-color: #d4ebff;}#sk-container-id-2 div.sk-label input.sk-toggleable__control:checked~label.sk-toggleable__label {background-color: #d4ebff;}#sk-container-id-2 input.sk-hidden--visually {border: 0;clip: rect(1px 1px 1px 1px);clip: rect(1px, 1px, 1px, 1px);height: 1px;margin: -1px;overflow: hidden;padding: 0;position: absolute;width: 1px;}#sk-container-id-2 div.sk-estimator {font-family: monospace;background-color: #f0f8ff;border: 1px dotted black;border-radius: 0.25em;box-sizing: border-box;margin-bottom: 0.5em;}#sk-container-id-2 div.sk-estimator:hover {background-color: #d4ebff;}#sk-container-id-2 div.sk-parallel-item::after {content: \"\";width: 100%;border-bottom: 1px solid gray;flex-grow: 1;}#sk-container-id-2 div.sk-label:hover label.sk-toggleable__label {background-color: #d4ebff;}#sk-container-id-2 div.sk-serial::before {content: \"\";position: absolute;border-left: 1px solid gray;box-sizing: border-box;top: 0;bottom: 0;left: 50%;z-index: 0;}#sk-container-id-2 div.sk-serial {display: flex;flex-direction: column;align-items: center;background-color: white;padding-right: 0.2em;padding-left: 0.2em;position: relative;}#sk-container-id-2 div.sk-item {position: relative;z-index: 1;}#sk-container-id-2 div.sk-parallel {display: flex;align-items: stretch;justify-content: center;background-color: white;position: relative;}#sk-container-id-2 div.sk-item::before, #sk-container-id-2 div.sk-parallel-item::before {content: \"\";position: absolute;border-left: 1px solid gray;box-sizing: border-box;top: 0;bottom: 0;left: 50%;z-index: -1;}#sk-container-id-2 div.sk-parallel-item {display: flex;flex-direction: column;z-index: 1;position: relative;background-color: white;}#sk-container-id-2 div.sk-parallel-item:first-child::after {align-self: flex-end;width: 50%;}#sk-container-id-2 div.sk-parallel-item:last-child::after {align-self: flex-start;width: 50%;}#sk-container-id-2 div.sk-parallel-item:only-child::after {width: 0;}#sk-container-id-2 div.sk-dashed-wrapped {border: 1px dashed gray;margin: 0 0.4em 0.5em 0.4em;box-sizing: border-box;padding-bottom: 0.4em;background-color: white;}#sk-container-id-2 div.sk-label label {font-family: monospace;font-weight: bold;display: inline-block;line-height: 1.2em;}#sk-container-id-2 div.sk-label-container {text-align: center;}#sk-container-id-2 div.sk-container {/* jupyter's `normalize.less` sets `[hidden] { display: none; }` but bootstrap.min.css set `[hidden] { display: none !important; }` so we also need the `!important` here to be able to override the default hidden behavior on the sphinx rendered scikit-learn.org. See: https://github.com/scikit-learn/scikit-learn/issues/21755 */display: inline-block !important;position: relative;}#sk-container-id-2 div.sk-text-repr-fallback {display: none;}</style><div id=\"sk-container-id-2\" class=\"sk-top-container\"><div class=\"sk-text-repr-fallback\"><pre>DecisionTreeClassifier()</pre><b>In a Jupyter environment, please rerun this cell to show the HTML representation or trust the notebook. <br />On GitHub, the HTML representation is unable to render, please try loading this page with nbviewer.org.</b></div><div class=\"sk-container\" hidden><div class=\"sk-item\"><div class=\"sk-estimator sk-toggleable\"><input class=\"sk-toggleable__control sk-hidden--visually\" id=\"sk-estimator-id-2\" type=\"checkbox\" checked><label for=\"sk-estimator-id-2\" class=\"sk-toggleable__label sk-toggleable__label-arrow\">DecisionTreeClassifier</label><div class=\"sk-toggleable__content\"><pre>DecisionTreeClassifier()</pre></div></div></div></div></div>"
      ],
      "text/plain": [
       "DecisionTreeClassifier()"
      ]
     },
     "execution_count": 37,
     "metadata": {},
     "output_type": "execute_result"
    }
   ],
   "source": [
    "dt_ctg.fit(ctg_train_x,ctg_train_y)"
   ]
  },
  {
   "cell_type": "code",
   "execution_count": 38,
   "id": "c0b67b58",
   "metadata": {},
   "outputs": [],
   "source": [
    "pred_ctg = dt_ctg.predict(ctg_test_x)"
   ]
  },
  {
   "cell_type": "code",
   "execution_count": 39,
   "id": "4775a4a4",
   "metadata": {},
   "outputs": [],
   "source": [
    "from sklearn.metrics import confusion_matrix"
   ]
  },
  {
   "cell_type": "code",
   "execution_count": 40,
   "id": "db119439",
   "metadata": {},
   "outputs": [
    {
     "data": {
      "text/plain": [
       "array([[296,  20,  17],\n",
       "       [ 16,  37,   7],\n",
       "       [  7,   6,  20]], dtype=int64)"
      ]
     },
     "execution_count": 40,
     "metadata": {},
     "output_type": "execute_result"
    }
   ],
   "source": [
    "tab_ctg = confusion_matrix(ctg_test_y , pred_ctg)\n",
    "tab_ctg"
   ]
  },
  {
   "cell_type": "code",
   "execution_count": 41,
   "id": "6070b0a2",
   "metadata": {},
   "outputs": [
    {
     "data": {
      "text/plain": [
       "82.86384976525821"
      ]
     },
     "execution_count": 41,
     "metadata": {},
     "output_type": "execute_result"
    }
   ],
   "source": [
    "tab_ctg.diagonal().sum()*100 / tab_ctg.sum() # accurracy"
   ]
  },
  {
   "cell_type": "code",
   "execution_count": 26,
   "id": "96a2c6a5",
   "metadata": {},
   "outputs": [],
   "source": [
    "# here class imbalance problem is their therefore their fore we will do over sampling for our data\n"
   ]
  },
  {
   "cell_type": "code",
   "execution_count": null,
   "id": "d903a75e",
   "metadata": {},
   "outputs": [],
   "source": [
    "# over sampling and the under sampling ??\n",
    "# most probably try not to use the under sampling we are removing the data here that is data loss been done here\n",
    "# therefore we try to use the over sampling because we are adding the data here \n",
    "# but it is not fixed that over sampling is always best but depending upon the scenario we do the under sampling also\n"
   ]
  },
  {
   "cell_type": "code",
   "execution_count": null,
   "id": "8db94575",
   "metadata": {},
   "outputs": [],
   "source": [
    "# u have 10 lakh record (9.9 lakh 0 class , 10 thousand class 1) ??\n",
    "# in these case we can remove some record of the class0 and add some of class 1\n",
    "# therefore here over sampling  could not be good solution because copy \n",
    "# this huge ammount of data or data duplication may create \n",
    "# and chances of performance going down is more"
   ]
  },
  {
   "cell_type": "code",
   "execution_count": null,
   "id": "239d3243",
   "metadata": {},
   "outputs": [],
   "source": [
    "# question this model was ccreated on gini or entropy ?? how will we know\n",
    "# ANS -- shift tab their we will know the criterion where we would know which tree method is used"
   ]
  },
  {
   "cell_type": "code",
   "execution_count": null,
   "id": "a847001f",
   "metadata": {},
   "outputs": [],
   "source": []
  }
 ],
 "metadata": {
  "kernelspec": {
   "display_name": "Python 3 (ipykernel)",
   "language": "python",
   "name": "python3"
  },
  "language_info": {
   "codemirror_mode": {
    "name": "ipython",
    "version": 3
   },
   "file_extension": ".py",
   "mimetype": "text/x-python",
   "name": "python",
   "nbconvert_exporter": "python",
   "pygments_lexer": "ipython3",
   "version": "3.10.5"
  }
 },
 "nbformat": 4,
 "nbformat_minor": 5
}
